{
 "cells": [
  {
   "cell_type": "code",
   "execution_count": 1,
   "id": "7e0e3902-56cd-4916-967f-a5270ce0b3c9",
   "metadata": {},
   "outputs": [
    {
     "name": "stdout",
     "output_type": "stream",
     "text": [
      "Collecting tmdbsimple\n",
      "  Downloading tmdbsimple-2.9.1-py3-none-any.whl (38 kB)\n",
      "Requirement already satisfied: requests in c:\\users\\owner\\anaconda3\\envs\\dojo-env\\lib\\site-packages (from tmdbsimple) (2.29.0)\n",
      "Requirement already satisfied: charset-normalizer<4,>=2 in c:\\users\\owner\\anaconda3\\envs\\dojo-env\\lib\\site-packages (from requests->tmdbsimple) (2.0.4)\n",
      "Requirement already satisfied: idna<4,>=2.5 in c:\\users\\owner\\anaconda3\\envs\\dojo-env\\lib\\site-packages (from requests->tmdbsimple) (3.4)\n",
      "Requirement already satisfied: urllib3<1.27,>=1.21.1 in c:\\users\\owner\\anaconda3\\envs\\dojo-env\\lib\\site-packages (from requests->tmdbsimple) (1.26.15)\n",
      "Requirement already satisfied: certifi>=2017.4.17 in c:\\users\\owner\\anaconda3\\envs\\dojo-env\\lib\\site-packages (from requests->tmdbsimple) (2023.5.7)\n",
      "Installing collected packages: tmdbsimple\n",
      "Successfully installed tmdbsimple-2.9.1\n"
     ]
    }
   ],
   "source": [
    "# Install tmdbsimple (only need to run once)\n",
    "#!pip install tmdbsimple\n",
    "\n"
   ]
  },
  {
   "cell_type": "code",
   "execution_count": 2,
   "id": "1c028f51-d970-4875-9fed-46d3d14591c1",
   "metadata": {},
   "outputs": [],
   "source": [
    "import pandas as pd"
   ]
  },
  {
   "cell_type": "code",
   "execution_count": 4,
   "id": "d9fef0af-1c47-4139-91ad-aae67e57f782",
   "metadata": {},
   "outputs": [
    {
     "data": {
      "text/plain": [
       "dict_keys(['api-key'])"
      ]
     },
     "execution_count": 4,
     "metadata": {},
     "output_type": "execute_result"
    }
   ],
   "source": [
    "import json\n",
    "with open('/Users/OWNER/.secret/tmdb_api.json', 'r') as f:\n",
    "    login = json.load(f)\n",
    "## Display the keys of the loaded dict\n",
    "login.keys()\n",
    "\n"
   ]
  },
  {
   "cell_type": "code",
   "execution_count": 5,
   "id": "2866b03b-a957-4d27-bda3-4fccd99f4bda",
   "metadata": {},
   "outputs": [],
   "source": [
    "import tmdbsimple as tmdb\n",
    "tmdb.API_KEY =  login['api-key']\n",
    "\n"
   ]
  },
  {
   "cell_type": "code",
   "execution_count": 6,
   "id": "85706442-93c2-4bcd-8f04-9ebfd2ac2157",
   "metadata": {},
   "outputs": [],
   "source": [
    "## make a movie object using the .Movies function from tmdb\n",
    "movie = tmdb.Movies(603)\n",
    "\n"
   ]
  },
  {
   "cell_type": "code",
   "execution_count": 7,
   "id": "2f04686f-77c1-4210-85ce-277d7effae8b",
   "metadata": {},
   "outputs": [
    {
     "data": {
      "text/plain": [
       "{'adult': False,\n",
       " 'backdrop_path': '/oMsxZEvz9a708d49b6UdZK1KAo5.jpg',\n",
       " 'belongs_to_collection': {'id': 2344,\n",
       "  'name': 'The Matrix Collection',\n",
       "  'poster_path': '/bV9qTVHTVf0gkW0j7p7M0ILD4pG.jpg',\n",
       "  'backdrop_path': '/bRm2DEgUiYciDw3myHuYFInD7la.jpg'},\n",
       " 'budget': 63000000,\n",
       " 'genres': [{'id': 28, 'name': 'Action'},\n",
       "  {'id': 878, 'name': 'Science Fiction'}],\n",
       " 'homepage': 'http://www.warnerbros.com/matrix',\n",
       " 'id': 603,\n",
       " 'imdb_id': 'tt0133093',\n",
       " 'original_language': 'en',\n",
       " 'original_title': 'The Matrix',\n",
       " 'overview': 'Set in the 22nd century, The Matrix tells the story of a computer hacker who joins a group of underground insurgents fighting the vast and powerful computers who now rule the earth.',\n",
       " 'popularity': 73.858,\n",
       " 'poster_path': '/f89U3ADr1oiB1s9GkdPOEpXUk5H.jpg',\n",
       " 'production_companies': [{'id': 79,\n",
       "   'logo_path': '/tpFpsqbleCzEE2p5EgvUq6ozfCA.png',\n",
       "   'name': 'Village Roadshow Pictures',\n",
       "   'origin_country': 'US'},\n",
       "  {'id': 372,\n",
       "   'logo_path': None,\n",
       "   'name': 'Groucho II Film Partnership',\n",
       "   'origin_country': ''},\n",
       "  {'id': 1885,\n",
       "   'logo_path': '/xlvoOZr4s1PygosrwZyolIFe5xs.png',\n",
       "   'name': 'Silver Pictures',\n",
       "   'origin_country': 'US'},\n",
       "  {'id': 174,\n",
       "   'logo_path': '/IuAlhI9eVC9Z8UQWOIDdWRKSEJ.png',\n",
       "   'name': 'Warner Bros. Pictures',\n",
       "   'origin_country': 'US'}],\n",
       " 'production_countries': [{'iso_3166_1': 'US',\n",
       "   'name': 'United States of America'}],\n",
       " 'release_date': '1999-03-30',\n",
       " 'revenue': 463517383,\n",
       " 'runtime': 136,\n",
       " 'spoken_languages': [{'english_name': 'English',\n",
       "   'iso_639_1': 'en',\n",
       "   'name': 'English'}],\n",
       " 'status': 'Released',\n",
       " 'tagline': 'Welcome to the Real World.',\n",
       " 'title': 'The Matrix',\n",
       " 'video': False,\n",
       " 'vote_average': 8.207,\n",
       " 'vote_count': 23891}"
      ]
     },
     "execution_count": 7,
     "metadata": {},
     "output_type": "execute_result"
    }
   ],
   "source": [
    "## movie objects have a .info dictionary \n",
    "info = movie.info()\n",
    "info\n",
    "\n"
   ]
  },
  {
   "cell_type": "code",
   "execution_count": 8,
   "id": "0c269da1-97b0-4401-a962-6bb29efe3107",
   "metadata": {},
   "outputs": [
    {
     "data": {
      "text/plain": [
       "63000000"
      ]
     },
     "execution_count": 8,
     "metadata": {},
     "output_type": "execute_result"
    }
   ],
   "source": [
    "info['budget']\n"
   ]
  },
  {
   "cell_type": "code",
   "execution_count": 9,
   "id": "fc93d267-e293-4626-9049-7c935e0d1f46",
   "metadata": {},
   "outputs": [
    {
     "data": {
      "text/plain": [
       "463517383"
      ]
     },
     "execution_count": 9,
     "metadata": {},
     "output_type": "execute_result"
    }
   ],
   "source": [
    "info['revenue']\n"
   ]
  },
  {
   "cell_type": "code",
   "execution_count": 10,
   "id": "5f4e8b81-8e08-437e-9bc9-885b40ade6ae",
   "metadata": {},
   "outputs": [
    {
     "data": {
      "text/plain": [
       "'tt0133093'"
      ]
     },
     "execution_count": 10,
     "metadata": {},
     "output_type": "execute_result"
    }
   ],
   "source": [
    "info['imdb_id']\n",
    "\n"
   ]
  },
  {
   "cell_type": "code",
   "execution_count": 11,
   "id": "b1b6cef7-eda2-476f-aeab-561cf1ac295e",
   "metadata": {},
   "outputs": [
    {
     "data": {
      "text/plain": [
       "50000000"
      ]
     },
     "execution_count": 11,
     "metadata": {},
     "output_type": "execute_result"
    }
   ],
   "source": [
    "movie = tmdb.Movies('tt1361336')\n",
    "info = movie.info()\n",
    "info['budget']\n"
   ]
  },
  {
   "cell_type": "code",
   "execution_count": 12,
   "id": "d1366a14-4a1b-485d-a486-07e0e5fb0478",
   "metadata": {},
   "outputs": [
    {
     "name": "stdout",
     "output_type": "stream",
     "text": [
      "PG\n",
      "PG\n",
      "PG\n"
     ]
    }
   ],
   "source": [
    "# example from package README\n",
    "# source = https://github.com/celiao/tmdbsimple\n",
    "releases = movie.releases()\n",
    "for c in releases['countries']:\n",
    "    if c['iso_3166_1'] == 'US':\n",
    "        print(c['certification'])\n"
   ]
  },
  {
   "cell_type": "code",
   "execution_count": 13,
   "id": "4117be17-14b4-44f0-9c42-8115fe74662f",
   "metadata": {},
   "outputs": [],
   "source": [
    "def get_movie_with_rating(movie_id):\n",
    "    \"\"\"adapted from source = https://github.com/celiao/tmdbsimple\"\"\"\n",
    "    # Get the movie object for the current id\n",
    "    movie = tmdb.Movies('tt1361336')\n",
    "    # save the .info .releases dictionaries\n",
    "    info = movie.info()\n",
    "    releases = movie.releases()\n",
    "    # Loop through countries in releases\n",
    "    for c in releases['countries']:\n",
    "        # if the country abbreviation==US\n",
    "        if c['iso_3166_1' ] =='US':\n",
    "            ## save a \"certification\" key in the info dict with the certification\n",
    "           info['certification'] = c['certification']\n",
    "    return info"
   ]
  },
  {
   "cell_type": "code",
   "execution_count": 14,
   "id": "6546996e-485f-4ffa-aac3-879e203716dc",
   "metadata": {},
   "outputs": [
    {
     "data": {
      "text/plain": [
       "{'adult': False,\n",
       " 'backdrop_path': '/9ns9463dwOeo1CK1JU2wirL5Yi1.jpg',\n",
       " 'belongs_to_collection': None,\n",
       " 'budget': 50000000,\n",
       " 'genres': [{'id': 35, 'name': 'Comedy'},\n",
       "  {'id': 10751, 'name': 'Family'},\n",
       "  {'id': 16, 'name': 'Animation'}],\n",
       " 'homepage': 'https://www.tomandjerrymovie.com',\n",
       " 'id': 587807,\n",
       " 'imdb_id': 'tt1361336',\n",
       " 'original_language': 'en',\n",
       " 'original_title': 'Tom & Jerry',\n",
       " 'overview': 'Tom the cat and Jerry the mouse get kicked out of their home and relocate to a fancy New York hotel, where a scrappy employee named Kayla will lose her job if she can’t evict Jerry before a high-class wedding at the hotel. Her solution? Hiring Tom to get rid of the pesky mouse.',\n",
       " 'popularity': 54.075,\n",
       " 'poster_path': '/8XZI9QZ7Pm3fVkigWJPbrXCMzjq.jpg',\n",
       " 'production_companies': [{'id': 25120,\n",
       "   'logo_path': '/lMj6nMJBOzfLEd2fu8uF530AJcv.png',\n",
       "   'name': 'Warner Bros. Pictures Animation',\n",
       "   'origin_country': 'US'},\n",
       "  {'id': 8922,\n",
       "   'logo_path': '/yZWehAyjfKi4KvKeg1bkJ1bm5H8.png',\n",
       "   'name': 'Turner Entertainment',\n",
       "   'origin_country': 'US'},\n",
       "  {'id': 77061,\n",
       "   'logo_path': None,\n",
       "   'name': 'The Story Company',\n",
       "   'origin_country': 'US'},\n",
       "  {'id': 174,\n",
       "   'logo_path': '/IuAlhI9eVC9Z8UQWOIDdWRKSEJ.png',\n",
       "   'name': 'Warner Bros. Pictures',\n",
       "   'origin_country': 'US'}],\n",
       " 'production_countries': [{'iso_3166_1': 'US',\n",
       "   'name': 'United States of America'}],\n",
       " 'release_date': '2021-02-10',\n",
       " 'revenue': 136536687,\n",
       " 'runtime': 101,\n",
       " 'spoken_languages': [{'english_name': 'English',\n",
       "   'iso_639_1': 'en',\n",
       "   'name': 'English'}],\n",
       " 'status': 'Released',\n",
       " 'tagline': 'Best of enemies. Worst of friends.',\n",
       " 'title': 'Tom & Jerry',\n",
       " 'video': False,\n",
       " 'vote_average': 6.858,\n",
       " 'vote_count': 2295,\n",
       " 'certification': 'PG'}"
      ]
     },
     "execution_count": 14,
     "metadata": {},
     "output_type": "execute_result"
    }
   ],
   "source": [
    "test = get_movie_with_rating(\"tt0848228\") #put your function name here\n",
    "test\n",
    "\n"
   ]
  },
  {
   "cell_type": "code",
   "execution_count": 25,
   "id": "7c754a6a-526f-45f8-82dc-e0c86ca8ead6",
   "metadata": {},
   "outputs": [
    {
     "data": {
      "text/html": [
       "<div>\n",
       "<style scoped>\n",
       "    .dataframe tbody tr th:only-of-type {\n",
       "        vertical-align: middle;\n",
       "    }\n",
       "\n",
       "    .dataframe tbody tr th {\n",
       "        vertical-align: top;\n",
       "    }\n",
       "\n",
       "    .dataframe thead th {\n",
       "        text-align: right;\n",
       "    }\n",
       "</style>\n",
       "<table border=\"1\" class=\"dataframe\">\n",
       "  <thead>\n",
       "    <tr style=\"text-align: right;\">\n",
       "      <th></th>\n",
       "      <th>adult</th>\n",
       "      <th>backdrop_path</th>\n",
       "      <th>belongs_to_collection</th>\n",
       "      <th>budget</th>\n",
       "      <th>genres</th>\n",
       "      <th>homepage</th>\n",
       "      <th>id</th>\n",
       "      <th>imdb_id</th>\n",
       "      <th>original_language</th>\n",
       "      <th>original_title</th>\n",
       "      <th>...</th>\n",
       "      <th>revenue</th>\n",
       "      <th>runtime</th>\n",
       "      <th>spoken_languages</th>\n",
       "      <th>status</th>\n",
       "      <th>tagline</th>\n",
       "      <th>title</th>\n",
       "      <th>video</th>\n",
       "      <th>vote_average</th>\n",
       "      <th>vote_count</th>\n",
       "      <th>certification</th>\n",
       "    </tr>\n",
       "  </thead>\n",
       "  <tbody>\n",
       "    <tr>\n",
       "      <th>0</th>\n",
       "      <td>False</td>\n",
       "      <td>/9ns9463dwOeo1CK1JU2wirL5Yi1.jpg</td>\n",
       "      <td>None</td>\n",
       "      <td>50000000</td>\n",
       "      <td>[{'id': 35, 'name': 'Comedy'}, {'id': 10751, '...</td>\n",
       "      <td>https://www.tomandjerrymovie.com</td>\n",
       "      <td>587807</td>\n",
       "      <td>tt1361336</td>\n",
       "      <td>en</td>\n",
       "      <td>Tom &amp; Jerry</td>\n",
       "      <td>...</td>\n",
       "      <td>136536687</td>\n",
       "      <td>101</td>\n",
       "      <td>[{'english_name': 'English', 'iso_639_1': 'en'...</td>\n",
       "      <td>Released</td>\n",
       "      <td>Best of enemies. Worst of friends.</td>\n",
       "      <td>Tom &amp; Jerry</td>\n",
       "      <td>False</td>\n",
       "      <td>6.858</td>\n",
       "      <td>2295</td>\n",
       "      <td>PG</td>\n",
       "    </tr>\n",
       "    <tr>\n",
       "      <th>1</th>\n",
       "      <td>False</td>\n",
       "      <td>/9ns9463dwOeo1CK1JU2wirL5Yi1.jpg</td>\n",
       "      <td>None</td>\n",
       "      <td>50000000</td>\n",
       "      <td>[{'id': 35, 'name': 'Comedy'}, {'id': 10751, '...</td>\n",
       "      <td>https://www.tomandjerrymovie.com</td>\n",
       "      <td>587807</td>\n",
       "      <td>tt1361336</td>\n",
       "      <td>en</td>\n",
       "      <td>Tom &amp; Jerry</td>\n",
       "      <td>...</td>\n",
       "      <td>136536687</td>\n",
       "      <td>101</td>\n",
       "      <td>[{'english_name': 'English', 'iso_639_1': 'en'...</td>\n",
       "      <td>Released</td>\n",
       "      <td>Best of enemies. Worst of friends.</td>\n",
       "      <td>Tom &amp; Jerry</td>\n",
       "      <td>False</td>\n",
       "      <td>6.858</td>\n",
       "      <td>2295</td>\n",
       "      <td>PG</td>\n",
       "    </tr>\n",
       "    <tr>\n",
       "      <th>2</th>\n",
       "      <td>False</td>\n",
       "      <td>/9ns9463dwOeo1CK1JU2wirL5Yi1.jpg</td>\n",
       "      <td>None</td>\n",
       "      <td>50000000</td>\n",
       "      <td>[{'id': 35, 'name': 'Comedy'}, {'id': 10751, '...</td>\n",
       "      <td>https://www.tomandjerrymovie.com</td>\n",
       "      <td>587807</td>\n",
       "      <td>tt1361336</td>\n",
       "      <td>en</td>\n",
       "      <td>Tom &amp; Jerry</td>\n",
       "      <td>...</td>\n",
       "      <td>136536687</td>\n",
       "      <td>101</td>\n",
       "      <td>[{'english_name': 'English', 'iso_639_1': 'en'...</td>\n",
       "      <td>Released</td>\n",
       "      <td>Best of enemies. Worst of friends.</td>\n",
       "      <td>Tom &amp; Jerry</td>\n",
       "      <td>False</td>\n",
       "      <td>6.858</td>\n",
       "      <td>2295</td>\n",
       "      <td>PG</td>\n",
       "    </tr>\n",
       "    <tr>\n",
       "      <th>3</th>\n",
       "      <td>False</td>\n",
       "      <td>/9ns9463dwOeo1CK1JU2wirL5Yi1.jpg</td>\n",
       "      <td>None</td>\n",
       "      <td>50000000</td>\n",
       "      <td>[{'id': 35, 'name': 'Comedy'}, {'id': 10751, '...</td>\n",
       "      <td>https://www.tomandjerrymovie.com</td>\n",
       "      <td>587807</td>\n",
       "      <td>tt1361336</td>\n",
       "      <td>en</td>\n",
       "      <td>Tom &amp; Jerry</td>\n",
       "      <td>...</td>\n",
       "      <td>136536687</td>\n",
       "      <td>101</td>\n",
       "      <td>[{'english_name': 'English', 'iso_639_1': 'en'...</td>\n",
       "      <td>Released</td>\n",
       "      <td>Best of enemies. Worst of friends.</td>\n",
       "      <td>Tom &amp; Jerry</td>\n",
       "      <td>False</td>\n",
       "      <td>6.858</td>\n",
       "      <td>2295</td>\n",
       "      <td>PG</td>\n",
       "    </tr>\n",
       "  </tbody>\n",
       "</table>\n",
       "<p>4 rows × 26 columns</p>\n",
       "</div>"
      ],
      "text/plain": [
       "   adult                     backdrop_path belongs_to_collection    budget  \\\n",
       "0  False  /9ns9463dwOeo1CK1JU2wirL5Yi1.jpg                  None  50000000   \n",
       "1  False  /9ns9463dwOeo1CK1JU2wirL5Yi1.jpg                  None  50000000   \n",
       "2  False  /9ns9463dwOeo1CK1JU2wirL5Yi1.jpg                  None  50000000   \n",
       "3  False  /9ns9463dwOeo1CK1JU2wirL5Yi1.jpg                  None  50000000   \n",
       "\n",
       "                                              genres  \\\n",
       "0  [{'id': 35, 'name': 'Comedy'}, {'id': 10751, '...   \n",
       "1  [{'id': 35, 'name': 'Comedy'}, {'id': 10751, '...   \n",
       "2  [{'id': 35, 'name': 'Comedy'}, {'id': 10751, '...   \n",
       "3  [{'id': 35, 'name': 'Comedy'}, {'id': 10751, '...   \n",
       "\n",
       "                           homepage      id    imdb_id original_language  \\\n",
       "0  https://www.tomandjerrymovie.com  587807  tt1361336                en   \n",
       "1  https://www.tomandjerrymovie.com  587807  tt1361336                en   \n",
       "2  https://www.tomandjerrymovie.com  587807  tt1361336                en   \n",
       "3  https://www.tomandjerrymovie.com  587807  tt1361336                en   \n",
       "\n",
       "  original_title  ...    revenue  runtime  \\\n",
       "0    Tom & Jerry  ...  136536687      101   \n",
       "1    Tom & Jerry  ...  136536687      101   \n",
       "2    Tom & Jerry  ...  136536687      101   \n",
       "3    Tom & Jerry  ...  136536687      101   \n",
       "\n",
       "                                    spoken_languages    status  \\\n",
       "0  [{'english_name': 'English', 'iso_639_1': 'en'...  Released   \n",
       "1  [{'english_name': 'English', 'iso_639_1': 'en'...  Released   \n",
       "2  [{'english_name': 'English', 'iso_639_1': 'en'...  Released   \n",
       "3  [{'english_name': 'English', 'iso_639_1': 'en'...  Released   \n",
       "\n",
       "                              tagline        title  video  vote_average  \\\n",
       "0  Best of enemies. Worst of friends.  Tom & Jerry  False         6.858   \n",
       "1  Best of enemies. Worst of friends.  Tom & Jerry  False         6.858   \n",
       "2  Best of enemies. Worst of friends.  Tom & Jerry  False         6.858   \n",
       "3  Best of enemies. Worst of friends.  Tom & Jerry  False         6.858   \n",
       "\n",
       "  vote_count certification  \n",
       "0       2295            PG  \n",
       "1       2295            PG  \n",
       "2       2295            PG  \n",
       "3       2295            PG  \n",
       "\n",
       "[4 rows x 26 columns]"
      ]
     },
     "execution_count": 25,
     "metadata": {},
     "output_type": "execute_result"
    }
   ],
   "source": [
    "# Using a try-except statement to catch and append the error message to a list\n",
    "import pandas as pd\n",
    "test_ids = [\"tt0848228\", \"tt0115937\",\"tt0848228\",\"tt0332280\"]\n",
    "results = []\n",
    "errors = []\n",
    "for movie_id in test_ids:\n",
    "    \n",
    "    try:\n",
    "        movie_info = get_movie_with_rating(movie_id)\n",
    "        results.append(movie_info)\n",
    "        \n",
    "    except Exception as e: \n",
    "        errors.append([movie_id, e])\n",
    "    \n",
    "pd.DataFrame(results)\n",
    "\n"
   ]
  },
  {
   "cell_type": "code",
   "execution_count": null,
   "id": "03ef6324-8bc7-414e-9ce0-b9bcf8a1e2fe",
   "metadata": {},
   "outputs": [],
   "source": []
  },
  {
   "cell_type": "code",
   "execution_count": null,
   "id": "e2b169f4-4901-4394-84ad-2b62bead6fb3",
   "metadata": {},
   "outputs": [],
   "source": []
  },
  {
   "cell_type": "code",
   "execution_count": null,
   "id": "1cd8148f-e724-4788-bf45-d67cc713bb65",
   "metadata": {},
   "outputs": [],
   "source": []
  },
  {
   "cell_type": "code",
   "execution_count": null,
   "id": "1b9b30d9-8fd7-4358-ae0c-2265a21bbe46",
   "metadata": {},
   "outputs": [],
   "source": []
  },
  {
   "cell_type": "code",
   "execution_count": null,
   "id": "b2736042-b7cd-4b16-a69e-0eca74f59123",
   "metadata": {},
   "outputs": [],
   "source": []
  },
  {
   "cell_type": "code",
   "execution_count": null,
   "id": "8a40b096-5411-4e4b-b417-faf2c059cad8",
   "metadata": {},
   "outputs": [],
   "source": []
  },
  {
   "cell_type": "code",
   "execution_count": null,
   "id": "c726ede7-691c-4bfb-85f3-b2408066970f",
   "metadata": {},
   "outputs": [],
   "source": []
  },
  {
   "cell_type": "code",
   "execution_count": null,
   "id": "dc73db8c-874f-4e99-bece-bb0129888937",
   "metadata": {},
   "outputs": [],
   "source": []
  },
  {
   "cell_type": "code",
   "execution_count": null,
   "id": "51a92a76-5fb8-43db-8d04-e728a57a90b9",
   "metadata": {},
   "outputs": [],
   "source": []
  },
  {
   "cell_type": "code",
   "execution_count": null,
   "id": "b547372c-c9b8-45aa-9959-d3c64e976c3a",
   "metadata": {},
   "outputs": [],
   "source": []
  },
  {
   "cell_type": "code",
   "execution_count": null,
   "id": "f5899875-f408-4fce-9e20-d9328099b423",
   "metadata": {},
   "outputs": [],
   "source": []
  },
  {
   "cell_type": "code",
   "execution_count": null,
   "id": "e314066c-2e26-4cec-8f7b-3cbaba18e5c6",
   "metadata": {},
   "outputs": [],
   "source": []
  },
  {
   "cell_type": "code",
   "execution_count": null,
   "id": "c9f8e837-8e2f-4e6e-afcc-4e13377af347",
   "metadata": {},
   "outputs": [],
   "source": []
  }
 ],
 "metadata": {
  "kernelspec": {
   "display_name": "Python (dojo-env)",
   "language": "python",
   "name": "dojo-env"
  },
  "language_info": {
   "codemirror_mode": {
    "name": "ipython",
    "version": 3
   },
   "file_extension": ".py",
   "mimetype": "text/x-python",
   "name": "python",
   "nbconvert_exporter": "python",
   "pygments_lexer": "ipython3",
   "version": "3.10.10"
  }
 },
 "nbformat": 4,
 "nbformat_minor": 5
}
